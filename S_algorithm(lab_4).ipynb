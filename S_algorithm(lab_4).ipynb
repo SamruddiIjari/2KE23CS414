{
  "nbformat": 4,
  "nbformat_minor": 0,
  "metadata": {
    "colab": {
      "provenance": [],
      "authorship_tag": "ABX9TyM2QXmyPxVzXsrfzpxHrAPh",
      "include_colab_link": true
    },
    "kernelspec": {
      "name": "python3",
      "display_name": "Python 3"
    },
    "language_info": {
      "name": "python"
    }
  },
  "cells": [
    {
      "cell_type": "markdown",
      "metadata": {
        "id": "view-in-github",
        "colab_type": "text"
      },
      "source": [
        "<a href=\"https://colab.research.google.com/github/SamruddiIjari/2KE23CS414/blob/main/S_algorithm(lab_4).ipynb\" target=\"_parent\"><img src=\"https://colab.research.google.com/assets/colab-badge.svg\" alt=\"Open In Colab\"/></a>"
      ]
    },
    {
      "cell_type": "code",
      "execution_count": 2,
      "metadata": {
        "colab": {
          "base_uri": "https://localhost:8080/"
        },
        "id": "16sobjkcoZDb",
        "outputId": "a69711b5-a6fa-4948-98e3-6e32e562b125"
      },
      "outputs": [
        {
          "output_type": "stream",
          "name": "stdout",
          "text": [
            "Sample training_data.csv created.\n",
            "\n",
            "Training data:\n",
            "     Sky AirTemp Humidity    Wind Water Forecast EnjoySport\n",
            "0  Sunny    Warm   Normal  Strong  Warm     Same        Yes\n",
            "1  Sunny    Warm     High  Strong  Warm     Same        Yes\n",
            "2  Rainy    Cold     High  Strong  Warm   Change         No\n",
            "3  Sunny    Warm     High  Strong  Cool   Change        Yes\n",
            "\n",
            "Hypothesis after instance 1: ['Sunny', 'Warm', 'Normal', 'Strong', 'Warm', 'Same']\n",
            "Hypothesis after instance 2: ['Sunny', 'Warm', '?', 'Strong', 'Warm', 'Same']\n",
            "Hypothesis after instance 4: ['Sunny', 'Warm', 'High', 'Strong', '?', '?']\n",
            "\n",
            "The final hypothesis is: ['Sunny', 'Warm', 'High', 'Strong', '?', '?']\n"
          ]
        }
      ],
      "source": [
        "import pandas as pd\n",
        "\n",
        "# Step 1: Create a sample dataset and save it to a CSV\n",
        "def create_sample_csv():\n",
        "    data = {\n",
        "        'Sky': ['Sunny', 'Sunny', 'Rainy', 'Sunny'],\n",
        "        'AirTemp': ['Warm', 'Warm', 'Cold', 'Warm'],\n",
        "        'Humidity': ['Normal', 'High', 'High', 'High'],\n",
        "        'Wind': ['Strong', 'Strong', 'Strong', 'Strong'],\n",
        "        'Water': ['Warm', 'Warm', 'Warm', 'Cool'],\n",
        "        'Forecast': ['Same', 'Same', 'Change', 'Change'],\n",
        "        'EnjoySport': ['Yes', 'Yes', 'No', 'Yes']\n",
        "    }\n",
        "    df = pd.DataFrame(data)\n",
        "    df.to_csv('training_data.csv', index=False)\n",
        "    print(\"Sample training_data.csv created.\\n\")\n",
        "\n",
        "\n",
        "# Step 2: Find-S Algorithm implementation\n",
        "def find_s_algorithm(file_path):\n",
        "    try:\n",
        "        data = pd.read_csv(file_path)\n",
        "    except FileNotFoundError:\n",
        "        print(f\"File not found: {file_path}\")\n",
        "        return None\n",
        "\n",
        "    print(\"Training data:\")\n",
        "    print(data)\n",
        "    print()\n",
        "\n",
        "    attributes = data.columns[:-1]\n",
        "    class_label = data.columns[-1]\n",
        "\n",
        "    # Initialize hypothesis\n",
        "    hypothesis = ['?' for _ in attributes]\n",
        "\n",
        "    for index, row in data.iterrows():\n",
        "        if row[class_label].strip().lower() == 'yes':\n",
        "            for i, attr in enumerate(attributes):\n",
        "                value = row[attr].strip() if isinstance(row[attr], str) else row[attr]\n",
        "                if hypothesis[i] == '?':\n",
        "                    hypothesis[i] = value\n",
        "                elif hypothesis[i] != value:\n",
        "                    hypothesis[i] = '?'\n",
        "            print(f\"Hypothesis after instance {index + 1}: {hypothesis}\")\n",
        "\n",
        "    return hypothesis\n",
        "\n",
        "\n",
        "# Step 3: Run everything\n",
        "create_sample_csv()\n",
        "file_path = 'training_data.csv'\n",
        "hypothesis = find_s_algorithm(file_path)\n",
        "\n",
        "if hypothesis:\n",
        "    print(\"\\nThe final hypothesis is:\", hypothesis)\n"
      ]
    }
  ]
}